{
 "cells": [
  {
   "cell_type": "markdown",
   "id": "703103fe",
   "metadata": {},
   "source": [
    "# Assignment 1:"
   ]
  },
  {
   "cell_type": "code",
   "execution_count": 7,
   "id": "6e5f527c",
   "metadata": {},
   "outputs": [
    {
     "name": "stdout",
     "output_type": "stream",
     "text": [
      "Twinkle, twinkle, little star,\n",
      "\tHow I wonder what you are|\n",
      "\t\tUp above the world so high,\n",
      "\t\tLike a dimond in the sky.\n",
      "Twinkle, twinkle, little star,\n",
      "\tHow I wonder what you are\n"
     ]
    }
   ],
   "source": [
    "print (\"Twinkle, twinkle, little star,\\n\\tHow I wonder what you are|\\n\\t\\tUp above the world so high,\\n\\t\\tLike a dimond in the sky.\\nTwinkle, twinkle, little star,\\n\\tHow I wonder what you are\")"
   ]
  },
  {
   "cell_type": "code",
   "execution_count": 4,
   "id": "e9f51aec",
   "metadata": {},
   "outputs": [
    {
     "name": "stdout",
     "output_type": "stream",
     "text": [
      "System version\n",
      "3.9.7 (default, Sep 16 2021, 16:59:28) [MSC v.1916 64 bit (AMD64)]\n",
      "Version info\n",
      "sys.version_info(major=3, minor=9, micro=7, releaselevel='final', serial=0)\n"
     ]
    }
   ],
   "source": [
    "import sys\n",
    "print(\"System version\")\n",
    "print(sys.version)\n",
    "print(\"Version info\")\n",
    "print(sys.version_info)"
   ]
  },
  {
   "cell_type": "code",
   "execution_count": 6,
   "id": "9600a2de",
   "metadata": {},
   "outputs": [
    {
     "name": "stdout",
     "output_type": "stream",
     "text": [
      "Current date and time is:\n",
      "21-12-31 23:02:26\n"
     ]
    }
   ],
   "source": [
    "import datetime\n",
    "\n",
    "now = datetime.datetime.now()\n",
    "print(\"Current date and time is:\")\n",
    "print(now.strftime(\"%y-%m-%d %H:%M:%S\"))"
   ]
  },
  {
   "cell_type": "code",
   "execution_count": 8,
   "id": "43b198af",
   "metadata": {},
   "outputs": [
    {
     "name": "stdout",
     "output_type": "stream",
     "text": [
      "Enter the radius of the circle : 10\n",
      "Area of the Circle is : 314.1592653589793\n"
     ]
    }
   ],
   "source": [
    "import math\n",
    "radius = float(input(\"Enter the radius of the circle : \"))\n",
    "\n",
    "area = math.pi * radius * radius\n",
    "\n",
    "print(\"Area of the Circle is : {0}\".format(area))"
   ]
  },
  {
   "cell_type": "code",
   "execution_count": 2,
   "id": "449f46c8",
   "metadata": {},
   "outputs": [
    {
     "name": "stdout",
     "output_type": "stream",
     "text": [
      "Enter Your First Name: Norina\n",
      "Enter Your Last Name:Shafi\n",
      "Hello:ShafiNorina\n"
     ]
    }
   ],
   "source": [
    "firstName = input(\"Enter Your First Name: \")\n",
    "lastName = input(\"Enter Your Last Name:\")\n",
    "print(\"Hello:\"+lastName+\"\"+firstName)"
   ]
  },
  {
   "cell_type": "code",
   "execution_count": 3,
   "id": "f67d532b",
   "metadata": {},
   "outputs": [
    {
     "name": "stdout",
     "output_type": "stream",
     "text": [
      "Enter Number 1 : 70\n",
      "Enter Number 2 : 30\n",
      "70 + 30 = 100\n"
     ]
    }
   ],
   "source": [
    "num1 = int(input(\"Enter Number 1 : \"))\n",
    "num2 = int(input(\"Enter Number 2 : \"))\n",
    "\n",
    "result = num1 +  num2\n",
    "\n",
    "print(\"{0} + {1} = {2}\".format(num1,num2,result))"
   ]
  },
  {
   "cell_type": "code",
   "execution_count": null,
   "id": "9041d804",
   "metadata": {},
   "outputs": [],
   "source": []
  }
 ],
 "metadata": {
  "kernelspec": {
   "display_name": "Python 3 (ipykernel)",
   "language": "python",
   "name": "python3"
  },
  "language_info": {
   "codemirror_mode": {
    "name": "ipython",
    "version": 3
   },
   "file_extension": ".py",
   "mimetype": "text/x-python",
   "name": "python",
   "nbconvert_exporter": "python",
   "pygments_lexer": "ipython3",
   "version": "3.9.7"
  }
 },
 "nbformat": 4,
 "nbformat_minor": 5
}
